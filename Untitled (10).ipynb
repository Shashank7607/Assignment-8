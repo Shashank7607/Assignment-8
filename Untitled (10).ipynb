{
 "cells": [
  {
   "cell_type": "markdown",
   "id": "042d3b39-0f65-4c02-aa5e-33fe8529e53d",
   "metadata": {},
   "source": [
    "OOPS ASSIGNMENT"
   ]
  },
  {
   "cell_type": "code",
   "execution_count": 1,
   "id": "74d2cc27-3909-41ea-832a-b5e211dd703f",
   "metadata": {},
   "outputs": [],
   "source": [
    "#ans1 = Abstraction is one of the fundamental principles of object-oriented programming (OOPs). It is the process of hiding implementation details while showing only the necessary information to the user. In other words, abstraction means focusing on the essential features of an object while ignoring the non-essential details.\n",
    "\n",
    "#Abstraction is achieved in OOPs through the use of abstract classes, interfaces, and encapsulation. Abstract classes and interfaces define the structure of a class or an object, without providing its implementation details. Encapsulation hides the implementation details of an object from the user."
   ]
  },
  {
   "cell_type": "code",
   "execution_count": 2,
   "id": "fa755636-3cd4-4a76-8af9-88b5a3019df3",
   "metadata": {},
   "outputs": [],
   "source": [
    "#example = consider a car. As a user, we know that a car has a steering wheel, brakes, accelerator, and gears. We do not need to know how these parts work internally. This is an example of abstraction where we are only concerned with the essential features of the car, and the implementation details are hidden from us.\n",
    "\n",
    "#In OOPs, we can create an abstract class called \"Vehicle,\" which defines the essential features that all vehicles have, such as the number of wheels, the type of engine, and the fuel type. This abstract class can be inherited by various other classes, such as \"Car,\" \"Truck,\" and \"Motorcycle,\" which implement the essential features of their respective vehicles. This way, the implementation details of each vehicle are hidden from the user, and they only need to interact with the essential features of the vehicle."
   ]
  },
  {
   "cell_type": "code",
   "execution_count": 3,
   "id": "9d7abf33-2675-4268-ae79-63194d6911c8",
   "metadata": {},
   "outputs": [],
   "source": [
    "#ans2 = Abstraction and encapsulation are two important concepts in object-oriented programming (OOPs) that are often confused with each other. While they are related, they are distinct concepts with different purposes.\n",
    "\n",
    "#Abstraction is the process of hiding implementation details while showing only the necessary information to the user. It is achieved in OOPs through the use of abstract classes, interfaces, and encapsulation. Abstraction focuses on the essential features of an object while ignoring the non-essential details.\n",
    "\n",
    "#Encapsulation, on the other hand, is the process of wrapping the data and the methods that operate on the data into a single unit, called a class. Encapsulation is used to protect the data from external access and modification, and to provide a clear interface for the user to interact with the object."
   ]
  },
  {
   "cell_type": "code",
   "execution_count": 4,
   "id": "d13c1868-76f7-4522-bbd5-4359ca1e99d2",
   "metadata": {},
   "outputs": [],
   "source": [
    "#ans3 = The abc module in Python provides the infrastructure for defining and working with abstract base classes (ABCs). ABCs are a way to define abstract classes in Python, which cannot be instantiated on their own, but instead are meant to be subclassed by other classes that provide their implementation.\n",
    "\n",
    "#The abc module defines the ABC class, which is the base class for all ABCs in Python. To define an abstract base class, you need to inherit from the ABC class and decorate the methods that you want to make abstract with the @abstractmethod decorator. An abstract method is a method that has no implementation and is meant to be overridden by a subclass."
   ]
  },
  {
   "cell_type": "code",
   "execution_count": 5,
   "id": "9da334ba-fa33-4341-b9e1-d1a3c57d1332",
   "metadata": {},
   "outputs": [],
   "source": [
    "#used for = The abc module is used for several purposes, such as:\n",
    "\n",
    "#Defining abstract classes: You can use the abc module to define abstract base classes, which cannot be instantiated on their own, but are meant to be subclassed by other classes that provide their implementation.\n",
    "\n",
    "#Enforcing interfaces: You can use ABCs to enforce that certain methods or attributes are present in a class, and to ensure that the implementation of these methods or attributes is consistent across different subclasses.\n",
    "\n",
    "#Polymorphism: By defining ABCs, you can ensure that different classes that implement the same interface can be used interchangeably in your code, allowing you to write more generic code that works with a variety of objects."
   ]
  },
  {
   "cell_type": "code",
   "execution_count": 6,
   "id": "77b96cde-30e5-4bbd-8579-9acfe9a98d6f",
   "metadata": {},
   "outputs": [],
   "source": [
    "#ans4 = In object-oriented programming, data abstraction is achieved by hiding the implementation details of a class from its users, and only exposing a well-defined interface that defines the operations that can be performed on the object. This allows the user to interact with the object without needing to know how it is implemented internally."
   ]
  },
  {
   "cell_type": "code",
   "execution_count": null,
   "id": "bc4cdeaa-3b97-4528-86cd-25ce6606a852",
   "metadata": {},
   "outputs": [],
   "source": [
    "#ans5 = No, we cannot create an instance of an abstract class in Python.\n",
    "\n",
    "#An abstract class is a class that has one or more abstract methods, which are methods that have no implementation in the abstract class, but must be implemented in the subclass. The purpose of an abstract class is to provide a template for other classes to inherit from and to enforce a certain structure or interface.\n",
    "\n",
    "Since an abstract class has one or more abstract methods that have no implementation, it cannot be instantiated on its own. If we try to instantiate an abstract class, we will get a TypeError with a message like \"Can't instantiate abstract class\" or \"Can't instantiate abstract class with abstract methods\"."
   ]
  }
 ],
 "metadata": {
  "kernelspec": {
   "display_name": "Python 3 (ipykernel)",
   "language": "python",
   "name": "python3"
  },
  "language_info": {
   "codemirror_mode": {
    "name": "ipython",
    "version": 3
   },
   "file_extension": ".py",
   "mimetype": "text/x-python",
   "name": "python",
   "nbconvert_exporter": "python",
   "pygments_lexer": "ipython3",
   "version": "3.10.8"
  }
 },
 "nbformat": 4,
 "nbformat_minor": 5
}
